{
  "nbformat": 4,
  "nbformat_minor": 0,
  "metadata": {
    "colab": {
      "provenance": [],
      "authorship_tag": "ABX9TyM2/I62uXf9Mu2AJvB5x4PS",
      "include_colab_link": true
    },
    "kernelspec": {
      "name": "python3",
      "display_name": "Python 3"
    },
    "language_info": {
      "name": "python"
    }
  },
  "cells": [
    {
      "cell_type": "markdown",
      "metadata": {
        "id": "view-in-github",
        "colab_type": "text"
      },
      "source": [
        "<a href=\"https://colab.research.google.com/github/Breno-Crespo/ProjetoIAGoogleChat/blob/main/Untitled0.ipynb\" target=\"_parent\"><img src=\"https://colab.research.google.com/assets/colab-badge.svg\" alt=\"Open In Colab\"/></a>"
      ]
    },
    {
      "cell_type": "markdown",
      "source": [
        "Instalando o SDK do Google"
      ],
      "metadata": {
        "id": "eeZlxD-9yrJL"
      }
    },
    {
      "cell_type": "code",
      "execution_count": 2,
      "metadata": {
        "id": "-jAsghLYuNz7"
      },
      "outputs": [],
      "source": [
        "!pip install -q -U google-generativeai"
      ]
    },
    {
      "cell_type": "code",
      "source": [
        "import google.generativeai as genai\n",
        "from google.colab import userdata\n",
        "api_key = userdata.get(\"Secret_KEY\")\n",
        "genai.configure(api_key=api_key)"
      ],
      "metadata": {
        "id": "BbGRfczezLqA"
      },
      "execution_count": 3,
      "outputs": []
    },
    {
      "cell_type": "markdown",
      "source": [
        "Listar os modelos disponíveis"
      ],
      "metadata": {
        "id": "rTXit-EwzXDg"
      }
    },
    {
      "cell_type": "code",
      "source": [
        "for m in genai.list_models():\n",
        "  if \"generateContent\" in m.supported_generation_methods:\n",
        "    print(m.name)"
      ],
      "metadata": {
        "colab": {
          "base_uri": "https://localhost:8080/",
          "height": 139
        },
        "id": "I-GDrfZSzTS0",
        "outputId": "189c4c08-465b-46d3-b932-f1c953abde92"
      },
      "execution_count": 4,
      "outputs": [
        {
          "output_type": "stream",
          "name": "stdout",
          "text": [
            "models/gemini-1.0-pro\n",
            "models/gemini-1.0-pro-001\n",
            "models/gemini-1.0-pro-latest\n",
            "models/gemini-1.0-pro-vision-latest\n",
            "models/gemini-1.5-pro-latest\n",
            "models/gemini-pro\n",
            "models/gemini-pro-vision\n"
          ]
        }
      ]
    },
    {
      "cell_type": "code",
      "source": [
        "generation_config = {\n",
        "    \"candidate_count\": 1,\n",
        "    \"temperature\": 0.5,\n",
        "}"
      ],
      "metadata": {
        "id": "UkzAiP1p1Da0"
      },
      "execution_count": 5,
      "outputs": []
    },
    {
      "cell_type": "code",
      "source": [
        "safety_settings = {\n",
        "    \"HARASSMENT\": \"BLOCK_NONE\",\n",
        "    \"HATE\": \"BLOCK_NONE\",\n",
        "    \"SEXUAL\": \"BLOCK_NONE\",\n",
        "    \"DANGEROUS\": \"BLOCK_NONE\",\n",
        "}"
      ],
      "metadata": {
        "id": "nQ_pKFrS1qdB"
      },
      "execution_count": 6,
      "outputs": []
    },
    {
      "cell_type": "markdown",
      "source": [
        "Inicializando o modelo"
      ],
      "metadata": {
        "id": "c4Xgy4E32n3q"
      }
    },
    {
      "cell_type": "code",
      "source": [
        "model = genai.GenerativeModel(model_name=\"gemini-1.0-pro\",\n",
        "                              generation_config=generation_config,\n",
        "                              safety_settings=safety_settings)"
      ],
      "metadata": {
        "id": "e_X3l_7A2Q5n"
      },
      "execution_count": 7,
      "outputs": []
    },
    {
      "cell_type": "code",
      "source": [
        "response = model.generate_content(\"Vamos aprender conteúdo sobre IA. Me dê sugestões.\")\n",
        "print(response.text)"
      ],
      "metadata": {
        "colab": {
          "base_uri": "https://localhost:8080/",
          "height": 746
        },
        "id": "Y4ezyZwt3ZTB",
        "outputId": "f4eabafb-c06f-4a47-9136-93d3a9db8819"
      },
      "execution_count": 8,
      "outputs": [
        {
          "output_type": "stream",
          "name": "stdout",
          "text": [
            "**Conceitos Fundamentais de IA**\n",
            "\n",
            "* Definição e história da IA\n",
            "* Tipos de IA (Aprendizado de Máquina, Aprendizado Profundo, Processamento de Linguagem Natural)\n",
            "* Algoritmos de IA (Regressão, Classificação, Agrupamento)\n",
            "\n",
            "**Aprendizado de Máquina**\n",
            "\n",
            "* Conceitos de Aprendizado Supervisionado, Não Supervisionado e por Reforço\n",
            "* Modelos de Aprendizado de Máquina (Árvores de Decisão, SVM, Redes Neurais)\n",
            "* Avaliação de Modelos de Aprendizado de Máquina\n",
            "\n",
            "**Aprendizado Profundo**\n",
            "\n",
            "* Introdução a Redes Neurais\n",
            "* Tipos de Redes Neurais (Convolucionais, Recorrentes)\n",
            "* Treinamento e Otimização de Redes Neurais\n",
            "\n",
            "**Processamento de Linguagem Natural**\n",
            "\n",
            "* Conceitos de PNL (Tokenização, Stemming, Lematização)\n",
            "* Modelos de PNL (Modelos de Linguagem, Classificação de Texto, Geração de Texto)\n",
            "* Aplicações de PNL (Chatbots, Tradução Automática)\n",
            "\n",
            "**Aplicações de IA**\n",
            "\n",
            "* IA na Saúde (Diagnóstico, Tratamento)\n",
            "* IA nas Finanças (Detecção de Fraude, Análise de Investimentos)\n",
            "* IA no Varejo (Recomendações Personalizadas, Otimização de Estoque)\n",
            "\n",
            "**Ética e Implicações Sociais da IA**\n",
            "\n",
            "* Preocupações éticas com IA (Viés, Privacidade)\n",
            "* Implicações sociais da IA (Desemprego, Desigualdade)\n",
            "* Regulamentações e Diretrizes para IA\n",
            "\n",
            "**Recursos Adicionais**\n",
            "\n",
            "* Cursos online (Coursera, edX, Udemy)\n",
            "* Livros (Inteligência Artificial: Uma Abordagem Moderna, Aprendizado Profundo)\n",
            "* Revistas e conferências (Nature Machine Intelligence, NeurIPS)\n",
            "* Comunidades online (Reddit, Stack Overflow)\n"
          ]
        }
      ]
    },
    {
      "cell_type": "code",
      "source": [
        "chat = model.start_chat(history=[])"
      ],
      "metadata": {
        "id": "Qt-btrNe32sz"
      },
      "execution_count": 9,
      "outputs": []
    },
    {
      "cell_type": "code",
      "source": [
        "prompt = input(\"Esperando o prompt: \")\n",
        "\n",
        "while prompt != \"fim\":\n",
        "  response = chat.send_message(prompt)\n",
        "  print(\"Resposta: \", response.text, \"\\n\")\n",
        "  prompt = input(\"Esperando o prompt: \")"
      ],
      "metadata": {
        "colab": {
          "base_uri": "https://localhost:8080/",
          "height": 1000
        },
        "id": "xcImZSxs4PIB",
        "outputId": "445bd5f0-2398-4034-e5ef-58d26cabf547"
      },
      "execution_count": 10,
      "outputs": [
        {
          "name": "stdout",
          "output_type": "stream",
          "text": [
            "Esperando o prompt: Qual o melhor assassino do jogo lol?\n",
            "Resposta:  **Assassinos da Selva**\n",
            "\n",
            "* **Kha'Zix:** Assassino evolutivo com alta mobilidade e dano explosivo.\n",
            "* **Evelynn:** Assassina furtiva com dano em área e capacidade de atravessar paredes.\n",
            "* **Rengar:** Assassino de emboscada com dano em rajada e habilidades de controle de grupo.\n",
            "* **Nocturne:** Assassino global com habilidades de controle de grupo e dano em área.\n",
            "* **Khaimera:** Assassino de alto dano com habilidades de controle de grupo e cura.\n",
            "\n",
            "**Assassinos da Rota do Meio**\n",
            "\n",
            "* **Zed:** Assassino de sombras com alta mobilidade e dano de explosão.\n",
            "* **Talon:** Assassino de alta velocidade de ataque com dano em área e capacidade de atravessar paredes.\n",
            "* **Katarina:** Assassina de alto dano com habilidades de redefinição e dano em área.\n",
            "* **LeBlanc:** Assassina de explosão com alta mobilidade e capacidade de enganar.\n",
            "* **Fizz:** Assassino aquático com alta mobilidade e dano explosivo.\n",
            "\n",
            "**Assassinos da Rota Inferior**\n",
            "\n",
            "* **Pyke:** Assassino de suporte com dano de explosão e habilidades de controle de grupo.\n",
            "* **Senna:** Assassina atiradora com habilidades de cura e dano em área.\n",
            "* **Samira:** Assassina atiradora com alta mobilidade e dano explosivo.\n",
            "\n",
            "**Assassinos da Rota Superior**\n",
            "\n",
            "* **Irelia:** Assassina lutadora com alta mobilidade e dano de explosão.\n",
            "* **Camille:** Assassina lutadora com habilidades de controle de grupo e dano explosivo.\n",
            "* **Fiora:** Assassina duelista com alta mobilidade e dano de explosão.\n",
            "\n",
            "A escolha do melhor assassino depende do estilo de jogo, composição da equipe e estratégia geral. \n",
            "\n",
            "Esperando o prompt: E o tank?\n",
            "Resposta:  **Melhores Tanks do LoL**\n",
            "\n",
            "**Tanks da Selva**\n",
            "\n",
            "* **Zac:** Tank com alta mobilidade, controle de grupo e dano em área.\n",
            "* **Sejuani:** Tank com controle de grupo em área e dano em explosão.\n",
            "* **Amumu:** Tank com controle de grupo em área e dano em explosão.\n",
            "* **Rammus:** Tank com alta armadura e resistência mágica, além de dano em área.\n",
            "* **Nunu e Willump:** Tank com habilidades de controle de grupo e cura.\n",
            "\n",
            "**Tanks da Rota do Topo**\n",
            "\n",
            "* **Ornn:** Tank com habilidades de controle de grupo, dano em área e capacidade de aprimorar itens.\n",
            "* **Malphite:** Tank com controle de grupo em área e dano em explosão.\n",
            "* **Shen:** Tank com habilidades de teletransporte global e controle de grupo.\n",
            "* **Poppy:** Tank com habilidades de controle de grupo e dano em explosão.\n",
            "* **Sion:** Tank com alta resistência e dano em área.\n",
            "\n",
            "**Tanks de Suporte**\n",
            "\n",
            "* **Leona:** Tank com habilidades de controle de grupo e dano em explosão.\n",
            "* **Thresh:** Tank com habilidades de controle de grupo e capacidade de salvar aliados.\n",
            "* **Alistar:** Tank com habilidades de controle de grupo e dano em explosão.\n",
            "* **Blitzcrank:** Tank com habilidades de controle de grupo e capacidade de puxar inimigos.\n",
            "* **Nautilus:** Tank com habilidades de controle de grupo e dano em explosão.\n",
            "\n",
            "A escolha do melhor tank depende da composição da equipe, estratégia geral e estilo de jogo. \n",
            "\n",
            "Esperando o prompt: fim\n"
          ]
        }
      ]
    },
    {
      "cell_type": "code",
      "source": [
        "import textwrap\n",
        "from IPython.display import display\n",
        "from IPython.display import Markdown\n",
        "\n",
        "def to_markdown(text):\n",
        "  text = text.replace(\",\", \"\")\n",
        "  return Markdown(textwrap.indent(text, predicate=lambda: True))\n",
        "\n",
        "#Imprimindo o histórico\n",
        "for message in chat.history:\n",
        "  display(to_markdown(f\"**({message.role})**: {message.parts[0].text}\"))\n",
        "  print(\"--------------------------\")"
      ],
      "metadata": {
        "id": "OZqCqwE-D5tz"
      },
      "execution_count": null,
      "outputs": []
    }
  ]
}